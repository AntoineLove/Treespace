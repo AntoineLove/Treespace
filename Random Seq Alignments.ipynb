{
 "cells": [
  {
   "cell_type": "code",
   "execution_count": 1,
   "id": "1c2d2d71-0265-4211-8b35-f9c8a3ab1c74",
   "metadata": {},
   "outputs": [],
   "source": [
    "import random \n",
    "from Bio import Phylo\n",
    "from Bio.Seq import Seq\n",
    "from Bio.SeqRecord import SeqRecord\n",
    "from Bio.Align import MultipleSeqAlignment\n",
    "from Bio.Phylo.TreeConstruction import DistanceCalculator, DistanceTreeConstructor\n",
    "\n",
    "def buildRandSeq(n):\n",
    "    '''Given a number n, this builds a random gene sequence of length n.\n",
    "    Utilizes the sequence and sequence record classes from Bio.  Just\n",
    "    provides these sequence classes with a random string of base pairs.'''   \n",
    "    return buildNPSeq(n,1)\n",
    "\n",
    "def buildNRandSeq(n,N):\n",
    "    '''Given a length of sequences and a number of sequences to build,\n",
    "    this method builds N random sequences of length n each.  Passes\n",
    "    sequence records into a multiple sequence alignment class.'''\n",
    "            \n",
    "    return buildNPSeq(n,N)\n",
    "\n",
    "def buildPSeq(n,p=[1/4,1/4,1/4,1/4]):\n",
    "    '''Returns a sequence of base pairs which are distributed\n",
    "    in the string of base pairs AGTC with probabilities\n",
    "    for AGTC specified by p.  By default, this is uniform.'''\n",
    "    if sum(p) != 1:\n",
    "        return \"Invalid probability distribution.  Does not sum to one.\"\n",
    "    \n",
    "    return buildNNormalSeq(n,1,p)\n",
    "\n",
    "def buildNPSeq(n,N,p=[1/4,1/4,1/4,1/4]):\n",
    "    classGCut = p[0]\n",
    "    classTCut = sum(p[:1])\n",
    "    classCCut = sum(p[:2])\n",
    "    \n",
    "    seqList = []\n",
    "    basePairs = ['A','G','T','C']\n",
    "    for j in range(N):\n",
    "        seq = ''\n",
    "        for i in range(n):\n",
    "            r = random.random()\n",
    "            if  r >= classCCut:\n",
    "                seq = seq+basePairs[3]\n",
    "            elif r >= classTCut:\n",
    "                seq = seq+basePairs[2]\n",
    "            elif r >= classGCut:\n",
    "                seq = seq+basePairs[1]\n",
    "            else:\n",
    "                seq = seq+basePairs[0]\n",
    "                \n",
    "        seqList.append(SeqRecord(Seq(seq),id='RAND'+str(j)+str(p)))\n",
    "        \n",
    "    return MultipleSeqAlignment(seqList)\n",
    "\n",
    "def combineAligns(alignList):\n",
    "    '''Takes a list of MultipleSeqAlignments and combines them all together.\n",
    "    Assumes that each sequence record has the same count of base pairs.'''\n",
    "    seqList = []\n",
    "    for align in alignList:\n",
    "        for record in align:\n",
    "            seqList.append(record)\n",
    "    return MultipleSeqAlignment(seqList)"
   ]
  },
  {
   "cell_type": "code",
   "execution_count": 9,
   "id": "ac427b1c-cc4b-49c4-854a-bc29484b8c04",
   "metadata": {},
   "outputs": [
    {
     "data": {
      "image/png": "[encoded data removed]",
      "text/plain": [
       "<Figure size 432x288 with 1 Axes>"
      ]
     },
     "metadata": {
      "needs_background": "light"
     },
     "output_type": "display_data"
    },
    {
     "name": "stdout",
     "output_type": "stream",
     "text": [
      "        ________________________ RAND2[0.1, 0.1, 0.1, 0.7]\n",
      "    ___|\n",
      "   |   | _____________________ RAND1[0.1, 0.1, 0.1, 0.7]\n",
      "  _|   ||\n",
      " | |    |___________________ RAND0[0.1, 0.1, 0.1, 0.7]\n",
      " | |\n",
      " | |___________________________________ RAND0[0.2, 0.2, 0, 0.6]\n",
      " |\n",
      " |  _______________________________ RAND2[0.2, 0.2, 0, 0.6]\n",
      " |,|\n",
      " |||__________________________________ RAND1[0.2, 0.2, 0, 0.6]\n",
      " ||\n",
      " ||  ______________________________________ RAND0[0.25, 0.25, 0.25, 0.25]\n",
      " || |\n",
      " ||_|        _______________________________ RAND1[0, 0.5, 0.5, 0]\n",
      " |  | ______|\n",
      "_|  ||      |   ______________________________ RAND2[0, 0.5, 0.5, 0]\n",
      " |  ||      |__|\n",
      " |   |         |_____________________________ RAND0[0, 0.5, 0.5, 0]\n",
      " |   |\n",
      " |   |______________________________________ RAND1[0.25, 0.25, 0.25, 0.25]\n",
      " |\n",
      " |_____________________________________ RAND2[0.25, 0.25, 0.25, 0.25]\n",
      " |\n",
      " |           _____________________________ RAND2[0.5, 0, 0, 0.5]\n",
      " |        __|\n",
      " |_______|  |______________________________ RAND1[0.5, 0, 0, 0.5]\n",
      "         |\n",
      "         |________________________________ RAND0[0.5, 0, 0, 0.5]\n",
      "\n"
     ]
    }
   ],
   "source": [
    "#generate some random alignments\n",
    "n = 500 #Number of base pairs in each sequence.\n",
    "N = 3 #Number of alignments to build.\n",
    "pList = [[0.25,0.25,.25,.25],[0.2,.2,0,.6],[.1,.1,.1,.7],[0,.5,.5,0],[0.5,0,0,.5]]\n",
    "\n",
    "#randAligns = buildNRandSeq(n,N)\n",
    "randPAlignsList = [buildNPSeq(n,N,p) for p in pList] \n",
    "\n",
    "#print(randPAligns1)\n",
    "#print(randPAligns2)\n",
    "# Calculate the distance matrix\n",
    "calc = DistanceCalculator('identity')\n",
    "distM = calc.get_distance(combineAligns(randPAlignsList))\n",
    "#print(distM)\n",
    "\n",
    "# Create a DistanceTreeConstructor object\n",
    "const = DistanceTreeConstructor()\n",
    "# Construct the phlyogenetic tree using UPGMA algorithm\n",
    "RandUPGMATree = const.upgma(distM)\n",
    "# Construct the phlyogenetic tree using NJ algorithm\n",
    "NJTree = const.nj(distM)\n",
    "\n",
    "# Draw the phlyogenetic tree\n",
    "Phylo.draw(RandUPGMATree)\n",
    "# Draw the phlyogenetic tree using terminal\n",
    "Phylo.draw_ascii(NJTree)"
   ]
  },
  {
   "cell_type": "markdown",
   "id": "234214ae-b78c-410a-b5ba-1024e8b503c5",
   "metadata": {},
   "source": []
  }
 ],
 "metadata": {
  "kernelspec": {
   "display_name": "Python 3",
   "language": "python",
   "name": "python3"
  },
  "language_info": {
   "codemirror_mode": {
    "name": "ipython",
    "version": 3
   },
   "file_extension": ".py",
   "mimetype": "text/x-python",
   "name": "python",
   "nbconvert_exporter": "python",
   "pygments_lexer": "ipython3",
   "version": "3.8.8"
  }
 },
 "nbformat": 4,
 "nbformat_minor": 5
}
